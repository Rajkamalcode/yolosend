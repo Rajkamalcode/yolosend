{
  "nbformat": 4,
  "nbformat_minor": 0,
  "metadata": {
    "colab": {
      "provenance": []
    },
    "kernelspec": {
      "name": "python3",
      "display_name": "Python 3"
    },
    "language_info": {
      "name": "python"
    }
  },
  "cells": [
    {
      "cell_type": "code",
      "execution_count": null,
      "metadata": {
        "id": "GwcxhtuJSLci"
      },
      "outputs": [],
      "source": [
        "!pip in!apt-get update\n",
        "!apt-get install -y tesseract-ocr\n",
        "!pip install pytesseract\n",
        "!pip install ultralytics huggingface_hub supervision\n"
      ]
    },
    {
      "cell_type": "code",
      "source": [
        "import os\n",
        "import cv2\n",
        "import numpy as np\n",
        "import pytesseract\n",
        "from pytesseract import Output\n",
        "from ultralytics import YOLO\n",
        "\n",
        "# Create a folder for saving cropped faces\n",
        "os.makedirs(\"results\", exist_ok=True)\n",
        "\n",
        "# Load the YOLO face detection model\n",
        "model = YOLO(\"yolov10n-face.pt\")  # Use your pretrained YOLO face model\n",
        "\n",
        "# List of image filenames to process (Modify as needed)\n",
        "filenames = #include the path of the image\n",
        "\n",
        "# Confidence threshold (75%)\n",
        "CONFIDENCE_THRESHOLD = 0.70\n",
        "\n",
        "# Function to detect text orientation using Tesseract\n",
        "def detect_text_orientation(image):\n",
        "    osd = pytesseract.image_to_osd(image, output_type=Output.DICT)\n",
        "    return osd.get(\"rotate\", 0)\n",
        "\n",
        "# Function to rotate the image based on detected text orientation\n",
        "def rotate_image(image, angle):\n",
        "    if angle == 0:\n",
        "        return image\n",
        "    elif angle == 90:\n",
        "        return cv2.rotate(image, cv2.ROTATE_90_CLOCKWISE)\n",
        "    elif angle == 180:\n",
        "        return cv2.rotate(image, cv2.ROTATE_180)\n",
        "    elif angle == 270:\n",
        "        return cv2.rotate(image, cv2.ROTATE_90_COUNTERCLOCKWISE)\n",
        "    else:\n",
        "        raise ValueError(f\"Unsupported rotation angle: {angle}\")\n",
        "\n",
        "# Process each image in batch\n",
        "for i, filename in enumerate(filenames):\n",
        "    # Load the image\n",
        "    img = cv2.imread(filename)\n",
        "    if img is None:\n",
        "        print(f\"Could not load image: {filename}\")\n",
        "        continue\n",
        "\n",
        "    # Detect and correct text orientation\n",
        "    rotation_angle = detect_text_orientation(img)\n",
        "    print(f\"Image {filename}: Detected rotation angle = {rotation_angle}°\")\n",
        "    img = rotate_image(img, rotation_angle)\n",
        "\n",
        "    # Detect faces using YOLO\n",
        "    results = model(img)\n",
        "\n",
        "    # Process each detected face\n",
        "    for j, result in enumerate(results):\n",
        "        # Convert bounding boxes and confidence scores to numpy arrays\n",
        "        boxes = result.boxes.xyxy.cpu().numpy()\n",
        "        confidences = result.boxes.conf.cpu().numpy()\n",
        "\n",
        "        for k, (box, conf) in enumerate(zip(boxes, confidences)):\n",
        "            if conf < CONFIDENCE_THRESHOLD:\n",
        "                print(f\"Skipping face {k} in {filename} (Confidence: {conf:.2f})\")\n",
        "                continue  # Ignore low-confidence detections\n",
        "\n",
        "            x1, y1, x2, y2 = map(int, box)  # Extract box coordinates\n",
        "\n",
        "            # Compute center, width, and height of original bounding box\n",
        "            cx, cy = (x1 + x2) / 2, (y1 + y2) / 2\n",
        "            w, h = (x2 - x1), (y2 - y1)\n",
        "\n",
        "            # Increase bounding box size by 2x\n",
        "            new_w, new_h = w * 2, h * 2\n",
        "\n",
        "            # Compute new coordinates ensuring they stay within image boundaries\n",
        "            new_x1 = int(max(cx - new_w / 2, 0))\n",
        "            new_y1 = int(max(cy - new_h / 2, 0))\n",
        "            new_x2 = int(min(cx + new_w / 2, img.shape[1] - 1))\n",
        "            new_y2 = int(min(cy + new_h / 2, img.shape[0] - 1))\n",
        "\n",
        "            # Crop the enlarged bounding box region\n",
        "            face_crop = img[new_y1:new_y2, new_x1:new_x2]\n",
        "\n",
        "            # Save cropped face\n",
        "            crop_filename = os.path.join(\"results\", f\"crop_{i}_{k}.jpg\")\n",
        "            cv2.imwrite(crop_filename, face_crop)\n",
        "            print(f\"Saved cropped face: {crop_filename} (Confidence: {conf:.2f})\")\n"
      ],
      "metadata": {
        "id": "dtAdk8l3SM2I"
      },
      "execution_count": null,
      "outputs": []
    }
  ]
}